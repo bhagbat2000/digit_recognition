{
 "cells": [
  {
   "cell_type": "code",
   "execution_count": 17,
   "metadata": {},
   "outputs": [
    {
     "name": "stderr",
     "output_type": "stream",
     "text": [
      "C:\\Users\\Bhagabat\\Anaconda31\\lib\\site-packages\\ipykernel_launcher.py:5: FutureWarning: Method .as_matrix will be removed in a future version. Use .values instead.\n",
      "  \"\"\"\n"
     ]
    },
    {
     "name": "stdout",
     "output_type": "stream",
     "text": [
      "Accuracy= 83.64761904761905\n",
      "[1]\n"
     ]
    },
    {
     "data": {
      "image/png": "[encoded data removed]",
      "text/plain": [
       "<Figure size 432x288 with 1 Axes>"
      ]
     },
     "metadata": {
      "needs_background": "light"
     },
     "output_type": "display_data"
    }
   ],
   "source": [
    "import numpy as np\n",
    "import pandas as pd\n",
    "import matplotlib.pyplot as plt\n",
    "from sklearn.tree import DecisionTreeClassifier\n",
    "data=pd.read_csv(\"train.csv\").as_matrix()\n",
    "clf = DecisionTreeClassifier()\n",
    "#train\n",
    "xtrain = data[0:21000,1:]\n",
    "train_label = data[0:21000,0]\n",
    "clf.fit(xtrain,train_label)\n",
    "#test\n",
    "xtest = data[21000:,1:]\n",
    "actual_label = data[21000:,0]\n",
    "\n",
    "p=clf.predict(xtest)\n",
    "count = 0\n",
    "for i in range(0,21000):\n",
    "    count+=1 if p[i]== actual_label[i] else 0\n",
    "print(\"Accuracy=\",(count/21000)*100)\n",
    "\n",
    "d= xtest[24]\n",
    "d.shape=(28,28)\n",
    "plt.imshow(d,cmap='gray')\n",
    "print(clf.predict([xtest[24]]))\n",
    "plt.show()\n"
   ]
  },
  {
   "cell_type": "code",
   "execution_count": null,
   "metadata": {},
   "outputs": [],
   "source": [
    "\"\"\"\n",
    "d= xtest[8]\n",
    "d.shape=(28,28)\n",
    "plt.imshow(d,cmap='gray')\n",
    "print(clf.predict([xtest[8]]))\n",
    "plt.show()\n",
    "\"\"\"\n"
   ]
  }
 ],
 "metadata": {
  "kernelspec": {
   "display_name": "Python 3",
   "language": "python",
   "name": "python3"
  },
  "language_info": {
   "codemirror_mode": {
    "name": "ipython",
    "version": 3
   },
   "file_extension": ".py",
   "mimetype": "text/x-python",
   "name": "python",
   "nbconvert_exporter": "python",
   "pygments_lexer": "ipython3",
   "version": "3.7.1"
  }
 },
 "nbformat": 4,
 "nbformat_minor": 2
}
